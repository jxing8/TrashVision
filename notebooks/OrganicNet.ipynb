{
  "nbformat": 4,
  "nbformat_minor": 0,
  "metadata": {
    "colab": {
      "name": "OrganicNet.ipynb",
      "provenance": [],
      "collapsed_sections": []
    },
    "kernelspec": {
      "name": "python3",
      "display_name": "Python 3"
    },
    "accelerator": "GPU"
  },
  "cells": [
    {
      "cell_type": "markdown",
      "metadata": {
        "id": "_Q90b3-mDoLr",
        "colab_type": "text"
      },
      "source": [
        "# Organic.ipynb\n",
        "\n",
        "Here is where we trained the CNN to discriminate organic vs non-organic on the Kaggle dataset. We got a 93.7% validation accuracy and a 87.0% test accuracy.\n",
        "\n",
        "(note that the output below is from a different run testing some modified training data, so it does not represent the output from our actual model)"
      ]
    },
    {
      "cell_type": "code",
      "metadata": {
        "id": "kwStBIZMNths",
        "colab_type": "code",
        "outputId": "0c3f9d44-e664-41de-ac92-84f6e5e30060",
        "colab": {
          "base_uri": "https://localhost:8080/",
          "height": 118
        }
      },
      "source": [
        "import matplotlib.pyplot as plt\n",
        "\n",
        "import torch\n",
        "import torch.nn as nn\n",
        "import torch.nn.functional as F\n",
        "import torchvision\n",
        "import torchvision.transforms as transforms\n",
        "import torchvision.models as models\n",
        "\n",
        "import numpy as np\n",
        "\n",
        "from google.colab import drive\n",
        "drive.mount('/content/drive/')"
      ],
      "execution_count": 0,
      "outputs": [
        {
          "output_type": "stream",
          "text": [
            "Go to this URL in a browser: https://accounts.google.com/o/oauth2/auth?client_id=947318989803-6bn6qk8qdgf4n4g3pfee6491hc0brc4i.apps.googleusercontent.com&redirect_uri=urn%3aietf%3awg%3aoauth%3a2.0%3aoob&response_type=code&scope=email%20https%3a%2f%2fwww.googleapis.com%2fauth%2fdocs.test%20https%3a%2f%2fwww.googleapis.com%2fauth%2fdrive%20https%3a%2f%2fwww.googleapis.com%2fauth%2fdrive.photos.readonly%20https%3a%2f%2fwww.googleapis.com%2fauth%2fpeopleapi.readonly\n",
            "\n",
            "Enter your authorization code:\n",
            "··········\n",
            "Mounted at /content/drive/\n"
          ],
          "name": "stdout"
        }
      ]
    },
    {
      "cell_type": "code",
      "metadata": {
        "id": "DlfO05CkNxpf",
        "colab_type": "code",
        "colab": {}
      },
      "source": [
        "# HYPERPARAMETERS\n",
        "train_batch_size = 64\n",
        "test_batch_size = 64\n",
        "train_validation_split = 4/5\n",
        "log_interval = 20\n",
        "lr = 0.01\n",
        "momentum = 0.9\n",
        "num_epochs = 10"
      ],
      "execution_count": 0,
      "outputs": []
    },
    {
      "cell_type": "code",
      "metadata": {
        "id": "cN-w70_HN0TX",
        "colab_type": "code",
        "colab": {}
      },
      "source": [
        "def prepare_data():\n",
        "    training_path = '/content/drive/My Drive/Datasets/Kaggle_Data/TRAIN'\n",
        "    # use the RandomCrop to make all images the same size\n",
        "    # this gave much better results than transforms.Resize()\n",
        "    trainval_set = torchvision.datasets.ImageFolder(root=training_path, transform=transforms.Compose([transforms.CenterCrop(256),transforms.ToTensor()]))\n",
        "    trainval_size = len(trainval_set)\n",
        "    targets = [int(i) for i in trainval_set.targets]\n",
        "    print(trainval_size - sum(targets))\n",
        "    print(sum(targets))\n",
        "    train_size = int(trainval_size * train_validation_split)\n",
        "\n",
        "    train_set, val_set = torch.utils.data.random_split(trainval_set, [train_size, trainval_size-train_size])\n",
        "\n",
        "    train_loader = torch.utils.data.DataLoader(train_set,batch_size=train_batch_size,num_workers=0,shuffle=True)\n",
        "    val_loader = torch.utils.data.DataLoader(val_set,batch_size=test_batch_size,num_workers=0,shuffle=True)\n",
        "\n",
        "    testing_path = '/content/drive/My Drive/Datasets/Kaggle_Data/TEST'\n",
        "    test_set = torchvision.datasets.ImageFolder(root=testing_path,transform=transforms.Compose([transforms.CenterCrop(256),transforms.ToTensor()]))\n",
        "    test_loader = torch.utils.data.DataLoader(test_set,batch_size=test_batch_size,num_workers=0,shuffle=True)\n",
        "\n",
        "    return train_set, val_set, test_set, train_loader, val_loader, test_loader"
      ],
      "execution_count": 0,
      "outputs": []
    },
    {
      "cell_type": "code",
      "metadata": {
        "id": "wBKzpq-MN6tT",
        "colab_type": "code",
        "colab": {}
      },
      "source": [
        "def train(model, criterion, train_loader, optimizer, device):\n",
        "    model.train() # set the mode of the model to training\n",
        "    total_loss = 0\n",
        "    for i, data in enumerate(train_loader):\n",
        "        imgs, lbls = data[0].to(device), data[1].to(device)\n",
        "\n",
        "        optimizer.zero_grad()\n",
        "        outputs = model(imgs)\n",
        "        loss = criterion(outputs, lbls)\n",
        "        loss.backward()\n",
        "        optimizer.step()\n",
        "\n",
        "        total_loss += loss.item()\n",
        "        if (i+1) % log_interval == 0:\n",
        "            mean_loss = total_loss / log_interval\n",
        "            print('\\tbatch {:4d}: loss={:.3f}'.format(i+1, mean_loss))\n",
        "            total_loss = 0.\n",
        "\n",
        "def test(model, test_loader, device):\n",
        "    model.eval()\n",
        "    total, correct = 0, 0\n",
        "    T0, F0, T1, F1 = 0, 0, 0, 0\n",
        "    with torch.no_grad():\n",
        "        for data in test_loader:\n",
        "            imgs, lbls = data[0].to(device), data[1].to(device)\n",
        "            outputs = model(imgs)\n",
        "            _, preds = torch.max(outputs.data, 1)\n",
        "            total += lbls.shape[0]\n",
        "            correct += (preds == lbls).sum().item()\n",
        "\n",
        "            T0 += (preds[preds == lbls] == 0).sum().item()\n",
        "            F0 += (preds[preds != lbls] == 0).sum().item()\n",
        "            T1 += (preds[preds == lbls] == 1).sum().item()\n",
        "            F1 += (preds[preds != lbls] == 1).sum().item()\n",
        "\n",
        "    acc = correct / total\n",
        "    confusion = np.array([[T0, F0], [F1, T1]])\n",
        "    print('\\tacc={:.3f}'.format(acc))\n",
        "    print(confusion)"
      ],
      "execution_count": 0,
      "outputs": []
    },
    {
      "cell_type": "code",
      "metadata": {
        "id": "uwa9-OaER_F_",
        "colab_type": "code",
        "colab": {}
      },
      "source": [
        "class Net(nn.Module):\n",
        "    def __init__(self):\n",
        "        super(Net, self).__init__()\n",
        "\n",
        "        self.fc = nn.Linear(1000, 2)\n",
        "\n",
        "        self._initialize_weights()\n",
        "\n",
        "    def _initialize_weights(self):\n",
        "        pass\n",
        "\n",
        "    def forward(self, x):\n",
        "        x = F.softmax(self.fc(x),dim=1)\n",
        "        return x"
      ],
      "execution_count": 0,
      "outputs": []
    },
    {
      "cell_type": "code",
      "metadata": {
        "id": "mwZ7rX2VOM0L",
        "colab_type": "code",
        "outputId": "b7b06469-430e-491b-f71d-b2f38e41b580",
        "colab": {
          "base_uri": "https://localhost:8080/",
          "height": 115
        }
      },
      "source": [
        "device = torch.device('cpu')\n",
        "if torch.cuda.is_available():\n",
        "    device = torch.device('cuda:0')\n",
        "print('Using {}'.format(device))\n",
        "\n",
        "train_set, val_set, test_set, train_loader, val_loader, test_loader = prepare_data()\n",
        "print('Training set size: {}'.format(len(train_set)))\n",
        "print('Validation set size: {}'.format(len(val_set)))\n",
        "print('Test set size: {}'.format(len(test_set)))"
      ],
      "execution_count": 0,
      "outputs": [
        {
          "output_type": "stream",
          "text": [
            "Using cuda:0\n",
            "12364\n",
            "9590\n",
            "Training set size: 17563\n",
            "Validation set size: 4391\n",
            "Test set size: 2033\n"
          ],
          "name": "stdout"
        }
      ]
    },
    {
      "cell_type": "code",
      "metadata": {
        "id": "6SH6l_OrPbsJ",
        "colab_type": "code",
        "outputId": "55c6b88f-7604-45c3-d5f4-ba40c3c4e281",
        "colab": {
          "base_uri": "https://localhost:8080/",
          "height": 202
        }
      },
      "source": [
        "import matplotlib.pyplot as plt\n",
        "import random\n",
        "\n",
        "fig, axes = plt.subplots(1, 2)\n",
        "for idx, ax in enumerate(axes):\n",
        "  img, lbl = train_set[random.randint(0,len(train_set))]\n",
        "  ax.imshow(img[0], cmap='gray')\n",
        "  ax.set_title(lbl)\n",
        "  ax.set_xticklabels([])\n",
        "  ax.set_yticklabels([])\n",
        "plt.show()"
      ],
      "execution_count": 0,
      "outputs": [
        {
          "output_type": "display_data",
          "data": {
            "image/png": "[encoded data removed]",
            "text/plain": [
              "<Figure size 432x288 with 2 Axes>"
            ]
          },
          "metadata": {
            "tags": []
          }
        }
      ]
    },
    {
      "cell_type": "code",
      "metadata": {
        "id": "MPj_HZs8afH5",
        "colab_type": "code",
        "outputId": "10ffe1da-5ced-49e5-b99e-4bc66ac3eb5f",
        "colab": {
          "base_uri": "https://localhost:8080/",
          "height": 1000
        }
      },
      "source": [
        "model = nn.Sequential(models.resnet101(pretrained=True), Net())\n",
        "# model = torch.load('OrganicModel.pt')\n",
        "torch.save(model.state_dict(), '/content/drive/My Drive/model.pt')\n",
        "model.to(device)\n",
        "\n",
        "criterion = nn.CrossEntropyLoss()\n",
        "optimizer = torch.optim.SGD(\n",
        "    model.parameters(),\n",
        "    lr = lr,\n",
        "    momentum = momentum\n",
        ")\n",
        "\n",
        "for e in range(num_epochs):\n",
        "    print('Training epoch {}'.format(e))\n",
        "    train(model, criterion, train_loader, optimizer, device)\n",
        "    print('Testing on validation set')\n",
        "    test(model, val_loader, device)\n",
        "\n",
        "torch.save(model.state_dict(), '/content/drive/My Drive/model.pt')\n"
      ],
      "execution_count": 0,
      "outputs": [
        {
          "output_type": "stream",
          "text": [
            "Downloading: \"https://download.pytorch.org/models/resnet101-5d3b4d8f.pth\" to /root/.cache/torch/checkpoints/resnet101-5d3b4d8f.pth\n",
            "100%|██████████| 170M/170M [00:03<00:00, 57.6MB/s]\n"
          ],
          "name": "stderr"
        },
        {
          "output_type": "stream",
          "text": [
            "Training epoch 0\n",
            "\tbatch   20: loss=0.525\n",
            "\tbatch   40: loss=0.531\n",
            "\tbatch   60: loss=0.557\n",
            "\tbatch   80: loss=0.588\n",
            "\tbatch  100: loss=0.592\n",
            "\tbatch  120: loss=0.568\n",
            "\tbatch  140: loss=0.575\n",
            "\tbatch  160: loss=0.586\n",
            "\tbatch  180: loss=0.554\n",
            "\tbatch  200: loss=0.579\n",
            "\tbatch  220: loss=0.553\n",
            "\tbatch  240: loss=0.544\n",
            "\tbatch  260: loss=0.556\n",
            "Testing on validation set\n",
            "\tacc=0.762\n",
            "[[1996  583]\n",
            " [ 460 1352]]\n",
            "Training epoch 1\n",
            "\tbatch   20: loss=0.547\n",
            "\tbatch   40: loss=0.596\n",
            "\tbatch   60: loss=0.576\n",
            "\tbatch   80: loss=0.556\n",
            "\tbatch  100: loss=0.548\n",
            "\tbatch  120: loss=0.572\n",
            "\tbatch  140: loss=0.557\n",
            "\tbatch  160: loss=0.595\n",
            "\tbatch  180: loss=0.568\n",
            "\tbatch  200: loss=0.584\n",
            "\tbatch  220: loss=0.576\n",
            "\tbatch  240: loss=0.556\n",
            "\tbatch  260: loss=0.569\n",
            "Testing on validation set\n",
            "\tacc=0.739\n",
            "[[1795  484]\n",
            " [ 661 1451]]\n",
            "Training epoch 2\n",
            "\tbatch   20: loss=0.569\n",
            "\tbatch   40: loss=0.541\n",
            "\tbatch   60: loss=0.549\n",
            "\tbatch   80: loss=0.534\n",
            "\tbatch  100: loss=0.547\n",
            "\tbatch  120: loss=0.539\n",
            "\tbatch  140: loss=0.531\n",
            "\tbatch  160: loss=0.526\n",
            "\tbatch  180: loss=0.529\n",
            "\tbatch  200: loss=0.536\n",
            "\tbatch  220: loss=0.527\n",
            "\tbatch  240: loss=0.513\n",
            "\tbatch  260: loss=0.526\n",
            "Testing on validation set\n",
            "\tacc=0.787\n",
            "[[2076  555]\n",
            " [ 380 1380]]\n",
            "Training epoch 3\n",
            "\tbatch   20: loss=0.507\n",
            "\tbatch   40: loss=0.527\n",
            "\tbatch   60: loss=0.512\n",
            "\tbatch   80: loss=0.553\n",
            "\tbatch  100: loss=0.508\n",
            "\tbatch  120: loss=0.558\n",
            "\tbatch  140: loss=0.553\n",
            "\tbatch  160: loss=0.510\n",
            "\tbatch  180: loss=0.522\n",
            "\tbatch  200: loss=0.527\n",
            "\tbatch  220: loss=0.544\n",
            "\tbatch  240: loss=0.522\n",
            "\tbatch  260: loss=0.524\n",
            "Testing on validation set\n",
            "\tacc=0.785\n",
            "[[1949  438]\n",
            " [ 507 1497]]\n",
            "Training epoch 4\n",
            "\tbatch   20: loss=0.507\n",
            "\tbatch   40: loss=0.521\n",
            "\tbatch   60: loss=0.502\n",
            "\tbatch   80: loss=0.498\n",
            "\tbatch  100: loss=0.525\n",
            "\tbatch  120: loss=0.534\n",
            "\tbatch  140: loss=0.514\n",
            "\tbatch  160: loss=0.508\n",
            "\tbatch  180: loss=0.527\n",
            "\tbatch  200: loss=0.511\n",
            "\tbatch  220: loss=0.513\n",
            "\tbatch  240: loss=0.491\n",
            "\tbatch  260: loss=0.526\n",
            "Testing on validation set\n",
            "\tacc=0.790\n",
            "[[2030  498]\n",
            " [ 426 1437]]\n",
            "Training epoch 5\n",
            "\tbatch   20: loss=0.499\n",
            "\tbatch   40: loss=0.520\n",
            "\tbatch   60: loss=0.506\n",
            "\tbatch   80: loss=0.485\n",
            "\tbatch  100: loss=0.504\n",
            "\tbatch  120: loss=0.497\n",
            "\tbatch  140: loss=0.484\n",
            "\tbatch  160: loss=0.490\n",
            "\tbatch  180: loss=0.488\n",
            "\tbatch  200: loss=0.495\n",
            "\tbatch  220: loss=0.492\n",
            "\tbatch  240: loss=0.482\n",
            "\tbatch  260: loss=0.494\n",
            "Testing on validation set\n",
            "\tacc=0.808\n",
            "[[2032  420]\n",
            " [ 424 1515]]\n",
            "Training epoch 6\n",
            "\tbatch   20: loss=0.480\n",
            "\tbatch   40: loss=0.486\n",
            "\tbatch   60: loss=0.472\n",
            "\tbatch   80: loss=0.475\n",
            "\tbatch  100: loss=0.467\n",
            "\tbatch  120: loss=0.483\n",
            "\tbatch  140: loss=0.480\n",
            "\tbatch  160: loss=0.473\n",
            "\tbatch  180: loss=0.476\n",
            "\tbatch  200: loss=0.482\n",
            "\tbatch  220: loss=0.479\n",
            "\tbatch  240: loss=0.461\n",
            "\tbatch  260: loss=0.492\n",
            "Testing on validation set\n",
            "\tacc=0.835\n",
            "[[2090  357]\n",
            " [ 366 1578]]\n",
            "Training epoch 7\n",
            "\tbatch   20: loss=0.455\n",
            "\tbatch   40: loss=0.455\n",
            "\tbatch   60: loss=0.465\n",
            "\tbatch   80: loss=0.442\n",
            "\tbatch  100: loss=0.470\n",
            "\tbatch  120: loss=0.467\n",
            "\tbatch  140: loss=0.449\n",
            "\tbatch  160: loss=0.464\n",
            "\tbatch  180: loss=0.463\n",
            "\tbatch  200: loss=0.455\n",
            "\tbatch  220: loss=0.438\n",
            "\tbatch  240: loss=0.448\n",
            "\tbatch  260: loss=0.454\n",
            "Testing on validation set\n",
            "\tacc=0.848\n",
            "[[2138  348]\n",
            " [ 318 1587]]\n",
            "Training epoch 8\n",
            "\tbatch   20: loss=0.446\n",
            "\tbatch   40: loss=0.446\n",
            "\tbatch   60: loss=0.433\n",
            "\tbatch   80: loss=0.438\n",
            "\tbatch  100: loss=0.449\n",
            "\tbatch  120: loss=0.451\n",
            "\tbatch  140: loss=0.459\n",
            "\tbatch  160: loss=0.453\n",
            "\tbatch  180: loss=0.431\n",
            "\tbatch  200: loss=0.450\n",
            "\tbatch  220: loss=0.449\n",
            "\tbatch  240: loss=0.444\n",
            "\tbatch  260: loss=0.451\n",
            "Testing on validation set\n",
            "\tacc=0.854\n",
            "[[2149  334]\n",
            " [ 307 1601]]\n",
            "Training epoch 9\n",
            "\tbatch   20: loss=0.439\n",
            "\tbatch   40: loss=0.439\n",
            "\tbatch   60: loss=0.431\n",
            "\tbatch   80: loss=0.425\n",
            "\tbatch  100: loss=0.438\n",
            "\tbatch  120: loss=0.442\n",
            "\tbatch  140: loss=0.429\n",
            "\tbatch  160: loss=0.433\n",
            "\tbatch  180: loss=0.425\n",
            "\tbatch  200: loss=0.432\n",
            "\tbatch  220: loss=0.453\n",
            "\tbatch  240: loss=0.434\n",
            "\tbatch  260: loss=0.468\n",
            "Testing on validation set\n"
          ],
          "name": "stdout"
        }
      ]
    }
  ]
}